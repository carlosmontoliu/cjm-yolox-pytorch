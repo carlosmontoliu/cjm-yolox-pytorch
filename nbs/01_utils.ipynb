{
 "cells": [
  {
   "cell_type": "markdown",
   "metadata": {},
   "source": [
    "# utils\n",
    "\n",
    "> Utility functions for working with YOLOX models"
   ]
  },
  {
   "cell_type": "code",
   "execution_count": null,
   "metadata": {},
   "outputs": [],
   "source": [
    "#| default_exp utils"
   ]
  },
  {
   "cell_type": "code",
   "execution_count": null,
   "metadata": {},
   "outputs": [],
   "source": [
    "#| hide\n",
    "from nbdev.showdoc import *"
   ]
  },
  {
   "cell_type": "code",
   "execution_count": null,
   "metadata": {},
   "outputs": [],
   "source": []
  },
  {
   "cell_type": "code",
   "execution_count": null,
   "metadata": {},
   "outputs": [],
   "source": [
    "#| export\n",
    "from pathlib import Path\n",
    "\n",
    "from typing import Any, Type, List, Optional, Callable, Tuple\n",
    "from functools import partial\n",
    "\n",
    "import urllib.request"
   ]
  },
  {
   "cell_type": "code",
   "execution_count": null,
   "metadata": {},
   "outputs": [],
   "source": []
  },
  {
   "cell_type": "code",
   "execution_count": null,
   "metadata": {},
   "outputs": [],
   "source": [
    "#| export\n",
    "# Based on:\n",
    "# https://github.com/open-mmlab/mmdetection/blob/d64e719172335fa3d7a757a2a3636bd19e9efb62/mmdet/core/utils/misc.py#L11\n",
    "\n",
    "def multi_apply(func: Callable[..., Any], # Function to apply.\n",
    "                *args: Any, # Variable length argument list.\n",
    "                **kwargs: Any # Arbitrary keyword arguments.\n",
    "               ) -> Tuple[List[Any], ...]:\n",
    "    \"\"\"\n",
    "    Applies the function `func` to each set of arguments in `*args`, \n",
    "    possibly using keyword arguments `**kwargs`.\n",
    "    \n",
    "    \n",
    "\n",
    "    \"\"\"\n",
    "    try:\n",
    "        pfunc = partial(func, **kwargs) if kwargs else func\n",
    "        map_results = map(pfunc, *args)\n",
    "        return tuple(map(list, zip(*map_results)))\n",
    "    except Exception as e:\n",
    "        print(f\"Error occurred: {str(e)}\")\n",
    "        return ()"
   ]
  },
  {
   "cell_type": "code",
   "execution_count": null,
   "metadata": {},
   "outputs": [
    {
     "data": {
      "text/plain": [
       "([2, 4, 6, 8], [2.5, 3.0, 3.5, 4.0])"
      ]
     },
     "execution_count": null,
     "metadata": {},
     "output_type": "execute_result"
    }
   ],
   "source": [
    "multi_apply(lambda a, b: (a*2, b/2), [1, 2, 3, 4], [5, 6, 7, 8])"
   ]
  },
  {
   "cell_type": "code",
   "execution_count": null,
   "metadata": {},
   "outputs": [],
   "source": []
  },
  {
   "cell_type": "code",
   "execution_count": null,
   "metadata": {},
   "outputs": [],
   "source": [
    "#| export\n",
    "def download_file(url:str, # The URL of the file to download. It should be a string containing a valid URL.\n",
    "                  destination:str, # The path where the file will be saved. This should include the filename and extension as well.\n",
    "                  overwrite:bool=False # Determines if the file should be overwritten if it already exists at the destination.\n",
    "                 ) -> None:\n",
    "    \n",
    "    \"\"\"\n",
    "    Downloads a file from a given URL and saves it to a specific destination. The function creates the necessary directories in the destination path if they do not exist.\n",
    "    \"\"\"\n",
    "    \n",
    "    # Check if the destination file already exists and if we are allowed to overwrite it\n",
    "    if not Path(destination).exists() or overwrite:\n",
    "\n",
    "        # Create parent directories if they do not exist\n",
    "        Path(destination).parent.mkdir(parents=True, exist_ok=True)\n",
    "\n",
    "        try:\n",
    "            # Attempt to download the file from the URL and save it to the destination\n",
    "            urllib.request.urlretrieve(url, destination)\n",
    "\n",
    "            # Print a success message if the download is successful\n",
    "            print(\"Download complete!\")\n",
    "\n",
    "        except Exception as e:\n",
    "            # Print an error message if the download fails\n",
    "            print(f\"An error occurred while downloading the file: {e}\")"
   ]
  },
  {
   "cell_type": "code",
   "execution_count": null,
   "metadata": {},
   "outputs": [],
   "source": []
  },
  {
   "cell_type": "code",
   "execution_count": null,
   "metadata": {},
   "outputs": [],
   "source": []
  },
  {
   "cell_type": "code",
   "execution_count": null,
   "metadata": {},
   "outputs": [],
   "source": []
  },
  {
   "cell_type": "code",
   "execution_count": null,
   "metadata": {},
   "outputs": [],
   "source": [
    "#| hide\n",
    "import nbdev; nbdev.nbdev_export()"
   ]
  }
 ],
 "metadata": {
  "kernelspec": {
   "display_name": "python3",
   "language": "python",
   "name": "python3"
  }
 },
 "nbformat": 4,
 "nbformat_minor": 4
}
