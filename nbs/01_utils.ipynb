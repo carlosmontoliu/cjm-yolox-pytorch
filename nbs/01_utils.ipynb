{
 "cells": [
  {
   "cell_type": "markdown",
   "metadata": {},
   "source": [
    "# utils\n",
    "\n",
    "> Utility functions for working with YOLOX models"
   ]
  },
  {
   "cell_type": "code",
   "execution_count": null,
   "metadata": {},
   "outputs": [],
   "source": [
    "#| default_exp utils"
   ]
  },
  {
   "cell_type": "code",
   "execution_count": null,
   "metadata": {},
   "outputs": [],
   "source": [
    "#| hide\n",
    "from nbdev.showdoc import *"
   ]
  },
  {
   "cell_type": "code",
   "execution_count": null,
   "metadata": {},
   "outputs": [],
   "source": []
  },
  {
   "cell_type": "code",
   "execution_count": null,
   "metadata": {},
   "outputs": [],
   "source": [
    "#| export\n",
    "from pathlib import Path\n",
    "\n",
    "from typing import Any, Type, List, Optional, Callable, Tuple\n",
    "from functools import partial"
   ]
  },
  {
   "cell_type": "code",
   "execution_count": null,
   "metadata": {},
   "outputs": [],
   "source": [
    "#| export\n",
    "import torch"
   ]
  },
  {
   "cell_type": "code",
   "execution_count": null,
   "metadata": {},
   "outputs": [],
   "source": []
  },
  {
   "cell_type": "code",
   "execution_count": null,
   "metadata": {},
   "outputs": [],
   "source": [
    "#| export\n",
    "def multi_apply(func:Callable[..., Any], # Function to apply.\n",
    "                *args:Any,\n",
    "                **kwargs:Any\n",
    "               ) -> Tuple[List[Any], ...]:\n",
    "    \"\"\"\n",
    "    Applies the function `func` to each set of arguments in `*args`, \n",
    "    possibly using keyword arguments `**kwargs`.\n",
    "    \n",
    "    Based on OpenMMLab's implementation in the mmdetection library:\n",
    "    \n",
    "    - [OpenMMLab's Implementation](https://github.com/open-mmlab/mmdetection/blob/d64e719172335fa3d7a757a2a3636bd19e9efb62/mmdet/core/utils/misc.py#L11)\n",
    "\n",
    "    \"\"\"\n",
    "    try:\n",
    "        pfunc = partial(func, **kwargs) if kwargs else func\n",
    "        map_results = map(pfunc, *args)\n",
    "        return tuple(map(list, zip(*map_results)))\n",
    "    except Exception as e:\n",
    "        print(f\"Error occurred: {str(e)}\")\n",
    "        return ()"
   ]
  },
  {
   "cell_type": "code",
   "execution_count": null,
   "metadata": {},
   "outputs": [
    {
     "data": {
      "text/plain": [
       "([2, 4, 6, 8], [2.5, 3.0, 3.5, 4.0])"
      ]
     },
     "execution_count": null,
     "metadata": {},
     "output_type": "execute_result"
    }
   ],
   "source": [
    "multi_apply(lambda a, b: (a*2, b/2), [1, 2, 3, 4], [5, 6, 7, 8])"
   ]
  },
  {
   "cell_type": "code",
   "execution_count": null,
   "metadata": {},
   "outputs": [],
   "source": []
  },
  {
   "cell_type": "code",
   "execution_count": null,
   "metadata": {},
   "outputs": [],
   "source": [
    "#| export\n",
    "def generate_output_grids(height, width, strides=[8,16,32]):\n",
    "        \"\"\"\n",
    "        Generate a tensor containing grid coordinates and strides for a given height and width.\n",
    "\n",
    "        Args:\n",
    "            height (int): The height of the image.\n",
    "            width (int): The width of the image.\n",
    "\n",
    "        Returns:\n",
    "            torch.Tensor: A tensor containing grid coordinates and strides.\n",
    "        \"\"\"\n",
    "\n",
    "        all_coordinates = []\n",
    "\n",
    "        # We will use a loop but it won't affect the exportability of the model to ONNX \n",
    "        # as the loop is not dependent on the input data (height, width) but on the 'strides' which is model parameter.\n",
    "        for i, stride in enumerate(strides):\n",
    "            # Calculate the grid height and width\n",
    "            grid_height = height // stride\n",
    "            grid_width = width // stride\n",
    "\n",
    "            # Generate grid coordinates\n",
    "            g1, g0 = torch.meshgrid(torch.arange(grid_height), torch.arange(grid_width), indexing='ij')\n",
    "            \n",
    "            # Create a tensor of strides\n",
    "            s = torch.full((grid_height, grid_width), stride)\n",
    "\n",
    "            # Stack the coordinates along with the stride\n",
    "            coordinates = torch.stack((g0.flatten(), g1.flatten(), s.flatten()), dim=-1)\n",
    "\n",
    "            # Append to the list\n",
    "            all_coordinates.append(coordinates)\n",
    "\n",
    "        # Concatenate all tensors in the list along the first dimension\n",
    "        output_grids = torch.cat(all_coordinates, dim=0)\n",
    "\n",
    "        return output_grids"
   ]
  },
  {
   "cell_type": "code",
   "execution_count": null,
   "metadata": {},
   "outputs": [],
   "source": []
  },
  {
   "cell_type": "code",
   "execution_count": null,
   "metadata": {},
   "outputs": [],
   "source": [
    "#| hide\n",
    "import nbdev; nbdev.nbdev_export()"
   ]
  }
 ],
 "metadata": {
  "kernelspec": {
   "display_name": "python3",
   "language": "python",
   "name": "python3"
  }
 },
 "nbformat": 4,
 "nbformat_minor": 4
}
