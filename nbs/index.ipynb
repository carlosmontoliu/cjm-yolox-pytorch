{
 "cells": [
  {
   "cell_type": "code",
   "execution_count": null,
   "metadata": {},
   "outputs": [],
   "source": [
    "#| hide\n",
    "# from cjm_yolox_pytorch.model import *"
   ]
  },
  {
   "cell_type": "markdown",
   "metadata": {},
   "source": [
    "# cjm-yolox-pytorch\n",
    "\n",
    "> A PyTorch implementation of the [YOLOX](https://arxiv.org/abs/2107.08430) object detection model based on [OpenMMLab](https://github.com/open-mmlab)’s implementation in the [mmdetection](https://github.com/open-mmlab/mmdetection) library."
   ]
  },
  {
   "cell_type": "markdown",
   "metadata": {},
   "source": [
    "## Install"
   ]
  },
  {
   "cell_type": "markdown",
   "metadata": {},
   "source": [
    "```sh\n",
    "pip install cjm_yolox_pytorch\n",
    "```"
   ]
  },
  {
   "cell_type": "markdown",
   "metadata": {},
   "source": [
    "## How to use"
   ]
  },
  {
   "cell_type": "code",
   "execution_count": null,
   "metadata": {},
   "outputs": [],
   "source": [
    "from cjm_yolox_pytorch.model import MODEL_TYPES, build_model"
   ]
  },
  {
   "cell_type": "markdown",
   "metadata": {},
   "source": [
    "**Select model type**"
   ]
  },
  {
   "cell_type": "code",
   "execution_count": null,
   "metadata": {},
   "outputs": [
    {
     "data": {
      "text/plain": [
       "'yolox_tiny'"
      ]
     },
     "execution_count": null,
     "metadata": {},
     "output_type": "execute_result"
    }
   ],
   "source": [
    "model_type = MODEL_TYPES[0]\n",
    "model_type"
   ]
  },
  {
   "cell_type": "markdown",
   "metadata": {},
   "source": [
    "**Build YOLOX model**"
   ]
  },
  {
   "cell_type": "code",
   "execution_count": null,
   "metadata": {},
   "outputs": [
    {
     "name": "stdout",
     "output_type": "stream",
     "text": [
      "The file ./pretrained_checkpoints/yolox_tiny.pth already exists and overwrite is set to False.\n",
      "Error occurred while building the model: Error(s) in loading state_dict for YOLOX:\n",
      "\tMissing key(s) in state_dict: \"backbone.stages.0.0.conv.weight\", \"backbone.stages.0.0.bn.weight\", \"backbone.stages.0.0.bn.bias\", \"backbone.stages.0.0.bn.running_mean\", \"backbone.stages.0.0.bn.running_var\", \"backbone.stages.0.1.main_conv.conv.weight\", \"backbone.stages.0.1.main_conv.bn.weight\", \"backbone.stages.0.1.main_conv.bn.bias\", \"backbone.stages.0.1.main_conv.bn.running_mean\", \"backbone.stages.0.1.main_conv.bn.running_var\", \"backbone.stages.0.1.short_conv.conv.weight\", \"backbone.stages.0.1.short_conv.bn.weight\", \"backbone.stages.0.1.short_conv.bn.bias\", \"backbone.stages.0.1.short_conv.bn.running_mean\", \"backbone.stages.0.1.short_conv.bn.running_var\", \"backbone.stages.0.1.final_conv.conv.weight\", \"backbone.stages.0.1.final_conv.bn.weight\", \"backbone.stages.0.1.final_conv.bn.bias\", \"backbone.stages.0.1.final_conv.bn.running_mean\", \"backbone.stages.0.1.final_conv.bn.running_var\", \"backbone.stages.0.1.blocks.0.layers.0.conv.weight\", \"backbone.stages.0.1.blocks.0.layers.0.bn.weight\", \"backbone.stages.0.1.blocks.0.layers.0.bn.bias\", \"backbone.stages.0.1.blocks.0.layers.0.bn.running_mean\", \"backbone.stages.0.1.blocks.0.layers.0.bn.running_var\", \"backbone.stages.0.1.blocks.0.layers.1.conv.weight\", \"backbone.stages.0.1.blocks.0.layers.1.bn.weight\", \"backbone.stages.0.1.blocks.0.layers.1.bn.bias\", \"backbone.stages.0.1.blocks.0.layers.1.bn.running_mean\", \"backbone.stages.0.1.blocks.0.layers.1.bn.running_var\", \"backbone.stages.1.0.conv.weight\", \"backbone.stages.1.0.bn.weight\", \"backbone.stages.1.0.bn.bias\", \"backbone.stages.1.0.bn.running_mean\", \"backbone.stages.1.0.bn.running_var\", \"backbone.stages.1.1.main_conv.conv.weight\", \"backbone.stages.1.1.main_conv.bn.weight\", \"backbone.stages.1.1.main_conv.bn.bias\", \"backbone.stages.1.1.main_conv.bn.running_mean\", \"backbone.stages.1.1.main_conv.bn.running_var\", \"backbone.stages.1.1.short_conv.conv.weight\", \"backbone.stages.1.1.short_conv.bn.weight\", \"backbone.stages.1.1.short_conv.bn.bias\", \"backbone.stages.1.1.short_conv.bn.running_mean\", \"backbone.stages.1.1.short_conv.bn.running_var\", \"backbone.stages.1.1.final_conv.conv.weight\", \"backbone.stages.1.1.final_conv.bn.weight\", \"backbone.stages.1.1.final_conv.bn.bias\", \"backbone.stages.1.1.final_conv.bn.running_mean\", \"backbone.stages.1.1.final_conv.bn.running_var\", \"backbone.stages.1.1.blocks.0.layers.0.conv.weight\", \"backbone.stages.1.1.blocks.0.layers.0.bn.weight\", \"backbone.stages.1.1.blocks.0.layers.0.bn.bias\", \"backbone.stages.1.1.blocks.0.layers.0.bn.running_mean\", \"backbone.stages.1.1.blocks.0.layers.0.bn.running_var\", \"backbone.stages.1.1.blocks.0.layers.1.conv.weight\", \"backbone.stages.1.1.blocks.0.layers.1.bn.weight\", \"backbone.stages.1.1.blocks.0.layers.1.bn.bias\", \"backbone.stages.1.1.blocks.0.layers.1.bn.running_mean\", \"backbone.stages.1.1.blocks.0.layers.1.bn.running_var\", \"backbone.stages.1.1.blocks.1.layers.0.conv.weight\", \"backbone.stages.1.1.blocks.1.layers.0.bn.weight\", \"backbone.stages.1.1.blocks.1.layers.0.bn.bias\", \"backbone.stages.1.1.blocks.1.layers.0.bn.running_mean\", \"backbone.stages.1.1.blocks.1.layers.0.bn.running_var\", \"backbone.stages.1.1.blocks.1.layers.1.conv.weight\", \"backbone.stages.1.1.blocks.1.layers.1.bn.weight\", \"backbone.stages.1.1.blocks.1.layers.1.bn.bias\", \"backbone.stages.1.1.blocks.1.layers.1.bn.running_mean\", \"backbone.stages.1.1.blocks.1.layers.1.bn.running_var\", \"backbone.stages.1.1.blocks.2.layers.0.conv.weight\", \"backbone.stages.1.1.blocks.2.layers.0.bn.weight\", \"backbone.stages.1.1.blocks.2.layers.0.bn.bias\", \"backbone.stages.1.1.blocks.2.layers.0.bn.running_mean\", \"backbone.stages.1.1.blocks.2.layers.0.bn.running_var\", \"backbone.stages.1.1.blocks.2.layers.1.conv.weight\", \"backbone.stages.1.1.blocks.2.layers.1.bn.weight\", \"backbone.stages.1.1.blocks.2.layers.1.bn.bias\", \"backbone.stages.1.1.blocks.2.layers.1.bn.running_mean\", \"backbone.stages.1.1.blocks.2.layers.1.bn.running_var\", \"backbone.stages.2.0.conv.weight\", \"backbone.stages.2.0.bn.weight\", \"backbone.stages.2.0.bn.bias\", \"backbone.stages.2.0.bn.running_mean\", \"backbone.stages.2.0.bn.running_var\", \"backbone.stages.2.1.main_conv.conv.weight\", \"backbone.stages.2.1.main_conv.bn.weight\", \"backbone.stages.2.1.main_conv.bn.bias\", \"backbone.stages.2.1.main_conv.bn.running_mean\", \"backbone.stages.2.1.main_conv.bn.running_var\", \"backbone.stages.2.1.short_conv.conv.weight\", \"backbone.stages.2.1.short_conv.bn.weight\", \"backbone.stages.2.1.short_conv.bn.bias\", \"backbone.stages.2.1.short_conv.bn.running_mean\", \"backbone.stages.2.1.short_conv.bn.running_var\", \"backbone.stages.2.1.final_conv.conv.weight\", \"backbone.stages.2.1.final_conv.bn.weight\", \"backbone.stages.2.1.final_conv.bn.bias\", \"backbone.stages.2.1.final_conv.bn.running_mean\", \"backbone.stages.2.1.final_conv.bn.running_var\", \"backbone.stages.2.1.blocks.0.layers.0.conv.weight\", \"backbone.stages.2.1.blocks.0.layers.0.bn.weight\", \"backbone.stages.2.1.blocks.0.layers.0.bn.bias\", \"backbone.stages.2.1.blocks.0.layers.0.bn.running_mean\", \"backbone.stages.2.1.blocks.0.layers.0.bn.running_var\", \"backbone.stages.2.1.blocks.0.layers.1.conv.weight\", \"backbone.stages.2.1.blocks.0.layers.1.bn.weight\", \"backbone.stages.2.1.blocks.0.layers.1.bn.bias\", \"backbone.stages.2.1.blocks.0.layers.1.bn.running_mean\", \"backbone.stages.2.1.blocks.0.layers.1.bn.running_var\", \"backbone.stages.2.1.blocks.1.layers.0.conv.weight\", \"backbone.stages.2.1.blocks.1.layers.0.bn.weight\", \"backbone.stages.2.1.blocks.1.layers.0.bn.bias\", \"backbone.stages.2.1.blocks.1.layers.0.bn.running_mean\", \"backbone.stages.2.1.blocks.1.layers.0.bn.running_var\", \"backbone.stages.2.1.blocks.1.layers.1.conv.weight\", \"backbone.stages.2.1.blocks.1.layers.1.bn.weight\", \"backbone.stages.2.1.blocks.1.layers.1.bn.bias\", \"backbone.stages.2.1.blocks.1.layers.1.bn.running_mean\", \"backbone.stages.2.1.blocks.1.layers.1.bn.running_var\", \"backbone.stages.2.1.blocks.2.layers.0.conv.weight\", \"backbone.stages.2.1.blocks.2.layers.0.bn.weight\", \"backbone.stages.2.1.blocks.2.layers.0.bn.bias\", \"backbone.stages.2.1.blocks.2.layers.0.bn.running_mean\", \"backbone.stages.2.1.blocks.2.layers.0.bn.running_var\", \"backbone.stages.2.1.blocks.2.layers.1.conv.weight\", \"backbone.stages.2.1.blocks.2.layers.1.bn.weight\", \"backbone.stages.2.1.blocks.2.layers.1.bn.bias\", \"backbone.stages.2.1.blocks.2.layers.1.bn.running_mean\", \"backbone.stages.2.1.blocks.2.layers.1.bn.running_var\", \"backbone.stages.3.0.conv.weight\", \"backbone.stages.3.0.bn.weight\", \"backbone.stages.3.0.bn.bias\", \"backbone.stages.3.0.bn.running_mean\", \"backbone.stages.3.0.bn.running_var\", \"backbone.stages.3.1.net.0.conv.weight\", \"backbone.stages.3.1.net.0.bn.weight\", \"backbone.stages.3.1.net.0.bn.bias\", \"backbone.stages.3.1.net.0.bn.running_mean\", \"backbone.stages.3.1.net.0.bn.running_var\", \"backbone.stages.3.1.net.2.conv.weight\", \"backbone.stages.3.1.net.2.bn.weight\", \"backbone.stages.3.1.net.2.bn.bias\", \"backbone.stages.3.1.net.2.bn.running_mean\", \"backbone.stages.3.1.net.2.bn.running_var\", \"backbone.stages.3.2.main_conv.conv.weight\", \"backbone.stages.3.2.main_conv.bn.weight\", \"backbone.stages.3.2.main_conv.bn.bias\", \"backbone.stages.3.2.main_conv.bn.running_mean\", \"backbone.stages.3.2.main_conv.bn.running_var\", \"backbone.stages.3.2.short_conv.conv.weight\", \"backbone.stages.3.2.short_conv.bn.weight\", \"backbone.stages.3.2.short_conv.bn.bias\", \"backbone.stages.3.2.short_conv.bn.running_mean\", \"backbone.stages.3.2.short_conv.bn.running_var\", \"backbone.stages.3.2.final_conv.conv.weight\", \"backbone.stages.3.2.final_conv.bn.weight\", \"backbone.stages.3.2.final_conv.bn.bias\", \"backbone.stages.3.2.final_conv.bn.running_mean\", \"backbone.stages.3.2.final_conv.bn.running_var\", \"backbone.stages.3.2.blocks.0.layers.0.conv.weight\", \"backbone.stages.3.2.blocks.0.layers.0.bn.weight\", \"backbone.stages.3.2.blocks.0.layers.0.bn.bias\", \"backbone.stages.3.2.blocks.0.layers.0.bn.running_mean\", \"backbone.stages.3.2.blocks.0.layers.0.bn.running_var\", \"backbone.stages.3.2.blocks.0.layers.1.conv.weight\", \"backbone.stages.3.2.blocks.0.layers.1.bn.weight\", \"backbone.stages.3.2.blocks.0.layers.1.bn.bias\", \"backbone.stages.3.2.blocks.0.layers.1.bn.running_mean\", \"backbone.stages.3.2.blocks.0.layers.1.bn.running_var\", \"neck.top_down_blocks.0.blocks.0.layers.0.conv.weight\", \"neck.top_down_blocks.0.blocks.0.layers.0.bn.weight\", \"neck.top_down_blocks.0.blocks.0.layers.0.bn.bias\", \"neck.top_down_blocks.0.blocks.0.layers.0.bn.running_mean\", \"neck.top_down_blocks.0.blocks.0.layers.0.bn.running_var\", \"neck.top_down_blocks.0.blocks.0.layers.1.conv.weight\", \"neck.top_down_blocks.0.blocks.0.layers.1.bn.weight\", \"neck.top_down_blocks.0.blocks.0.layers.1.bn.bias\", \"neck.top_down_blocks.0.blocks.0.layers.1.bn.running_mean\", \"neck.top_down_blocks.0.blocks.0.layers.1.bn.running_var\", \"neck.top_down_blocks.1.blocks.0.layers.0.conv.weight\", \"neck.top_down_blocks.1.blocks.0.layers.0.bn.weight\", \"neck.top_down_blocks.1.blocks.0.layers.0.bn.bias\", \"neck.top_down_blocks.1.blocks.0.layers.0.bn.running_mean\", \"neck.top_down_blocks.1.blocks.0.layers.0.bn.running_var\", \"neck.top_down_blocks.1.blocks.0.layers.1.conv.weight\", \"neck.top_down_blocks.1.blocks.0.layers.1.bn.weight\", \"neck.top_down_blocks.1.blocks.0.layers.1.bn.bias\", \"neck.top_down_blocks.1.blocks.0.layers.1.bn.running_mean\", \"neck.top_down_blocks.1.blocks.0.layers.1.bn.running_var\", \"neck.bottom_up_blocks.0.blocks.0.layers.0.conv.weight\", \"neck.bottom_up_blocks.0.blocks.0.layers.0.bn.weight\", \"neck.bottom_up_blocks.0.blocks.0.layers.0.bn.bias\", \"neck.bottom_up_blocks.0.blocks.0.layers.0.bn.running_mean\", \"neck.bottom_up_blocks.0.blocks.0.layers.0.bn.running_var\", \"neck.bottom_up_blocks.0.blocks.0.layers.1.conv.weight\", \"neck.bottom_up_blocks.0.blocks.0.layers.1.bn.weight\", \"neck.bottom_up_blocks.0.blocks.0.layers.1.bn.bias\", \"neck.bottom_up_blocks.0.blocks.0.layers.1.bn.running_mean\", \"neck.bottom_up_blocks.0.blocks.0.layers.1.bn.running_var\", \"neck.bottom_up_blocks.1.blocks.0.layers.0.conv.weight\", \"neck.bottom_up_blocks.1.blocks.0.layers.0.bn.weight\", \"neck.bottom_up_blocks.1.blocks.0.layers.0.bn.bias\", \"neck.bottom_up_blocks.1.blocks.0.layers.0.bn.running_mean\", \"neck.bottom_up_blocks.1.blocks.0.layers.0.bn.running_var\", \"neck.bottom_up_blocks.1.blocks.0.layers.1.conv.weight\", \"neck.bottom_up_blocks.1.blocks.0.layers.1.bn.weight\", \"neck.bottom_up_blocks.1.blocks.0.layers.1.bn.bias\", \"neck.bottom_up_blocks.1.blocks.0.layers.1.bn.running_mean\", \"neck.bottom_up_blocks.1.blocks.0.layers.1.bn.running_var\". \n",
      "\tUnexpected key(s) in state_dict: \"backbone.stage1.0.conv.weight\", \"backbone.stage1.0.bn.weight\", \"backbone.stage1.0.bn.bias\", \"backbone.stage1.0.bn.running_mean\", \"backbone.stage1.0.bn.running_var\", \"backbone.stage1.0.bn.num_batches_tracked\", \"backbone.stage1.1.main_conv.conv.weight\", \"backbone.stage1.1.main_conv.bn.weight\", \"backbone.stage1.1.main_conv.bn.bias\", \"backbone.stage1.1.main_conv.bn.running_mean\", \"backbone.stage1.1.main_conv.bn.running_var\", \"backbone.stage1.1.main_conv.bn.num_batches_tracked\", \"backbone.stage1.1.short_conv.conv.weight\", \"backbone.stage1.1.short_conv.bn.weight\", \"backbone.stage1.1.short_conv.bn.bias\", \"backbone.stage1.1.short_conv.bn.running_mean\", \"backbone.stage1.1.short_conv.bn.running_var\", \"backbone.stage1.1.short_conv.bn.num_batches_tracked\", \"backbone.stage1.1.final_conv.conv.weight\", \"backbone.stage1.1.final_conv.bn.weight\", \"backbone.stage1.1.final_conv.bn.bias\", \"backbone.stage1.1.final_conv.bn.running_mean\", \"backbone.stage1.1.final_conv.bn.running_var\", \"backbone.stage1.1.final_conv.bn.num_batches_tracked\", \"backbone.stage1.1.blocks.0.conv1.conv.weight\", \"backbone.stage1.1.blocks.0.conv1.bn.weight\", \"backbone.stage1.1.blocks.0.conv1.bn.bias\", \"backbone.stage1.1.blocks.0.conv1.bn.running_mean\", \"backbone.stage1.1.blocks.0.conv1.bn.running_var\", \"backbone.stage1.1.blocks.0.conv1.bn.num_batches_tracked\", \"backbone.stage1.1.blocks.0.conv2.conv.weight\", \"backbone.stage1.1.blocks.0.conv2.bn.weight\", \"backbone.stage1.1.blocks.0.conv2.bn.bias\", \"backbone.stage1.1.blocks.0.conv2.bn.running_mean\", \"backbone.stage1.1.blocks.0.conv2.bn.running_var\", \"backbone.stage1.1.blocks.0.conv2.bn.num_batches_tracked\", \"backbone.stage2.0.conv.weight\", \"backbone.stage2.0.bn.weight\", \"backbone.stage2.0.bn.bias\", \"backbone.stage2.0.bn.running_mean\", \"backbone.stage2.0.bn.running_var\", \"backbone.stage2.0.bn.num_batches_tracked\", \"backbone.stage2.1.main_conv.conv.weight\", \"backbone.stage2.1.main_conv.bn.weight\", \"backbone.stage2.1.main_conv.bn.bias\", \"backbone.stage2.1.main_conv.bn.running_mean\", \"backbone.stage2.1.main_conv.bn.running_var\", \"backbone.stage2.1.main_conv.bn.num_batches_tracked\", \"backbone.stage2.1.short_conv.conv.weight\", \"backbone.stage2.1.short_conv.bn.weight\", \"backbone.stage2.1.short_conv.bn.bias\", \"backbone.stage2.1.short_conv.bn.running_mean\", \"backbone.stage2.1.short_conv.bn.running_var\", \"backbone.stage2.1.short_conv.bn.num_batches_tracked\", \"backbone.stage2.1.final_conv.conv.weight\", \"backbone.stage2.1.final_conv.bn.weight\", \"backbone.stage2.1.final_conv.bn.bias\", \"backbone.stage2.1.final_conv.bn.running_mean\", \"backbone.stage2.1.final_conv.bn.running_var\", \"backbone.stage2.1.final_conv.bn.num_batches_tracked\", \"backbone.stage2.1.blocks.0.conv1.conv.weight\", \"backbone.stage2.1.blocks.0.conv1.bn.weight\", \"backbone.stage2.1.blocks.0.conv1.bn.bias\", \"backbone.stage2.1.blocks.0.conv1.bn.running_mean\", \"backbone.stage2.1.blocks.0.conv1.bn.running_var\", \"backbone.stage2.1.blocks.0.conv1.bn.num_batches_tracked\", \"backbone.stage2.1.blocks.0.conv2.conv.weight\", \"backbone.stage2.1.blocks.0.conv2.bn.weight\", \"backbone.stage2.1.blocks.0.conv2.bn.bias\", \"backbone.stage2.1.blocks.0.conv2.bn.running_mean\", \"backbone.stage2.1.blocks.0.conv2.bn.running_var\", \"backbone.stage2.1.blocks.0.conv2.bn.num_batches_tracked\", \"backbone.stage2.1.blocks.1.conv1.conv.weight\", \"backbone.stage2.1.blocks.1.conv1.bn.weight\", \"backbone.stage2.1.blocks.1.conv1.bn.bias\", \"backbone.stage2.1.blocks.1.conv1.bn.running_mean\", \"backbone.stage2.1.blocks.1.conv1.bn.running_var\", \"backbone.stage2.1.blocks.1.conv1.bn.num_batches_tracked\", \"backbone.stage2.1.blocks.1.conv2.conv.weight\", \"backbone.stage2.1.blocks.1.conv2.bn.weight\", \"backbone.stage2.1.blocks.1.conv2.bn.bias\", \"backbone.stage2.1.blocks.1.conv2.bn.running_mean\", \"backbone.stage2.1.blocks.1.conv2.bn.running_var\", \"backbone.stage2.1.blocks.1.conv2.bn.num_batches_tracked\", \"backbone.stage2.1.blocks.2.conv1.conv.weight\", \"backbone.stage2.1.blocks.2.conv1.bn.weight\", \"backbone.stage2.1.blocks.2.conv1.bn.bias\", \"backbone.stage2.1.blocks.2.conv1.bn.running_mean\", \"backbone.stage2.1.blocks.2.conv1.bn.running_var\", \"backbone.stage2.1.blocks.2.conv1.bn.num_batches_tracked\", \"backbone.stage2.1.blocks.2.conv2.conv.weight\", \"backbone.stage2.1.blocks.2.conv2.bn.weight\", \"backbone.stage2.1.blocks.2.conv2.bn.bias\", \"backbone.stage2.1.blocks.2.conv2.bn.running_mean\", \"backbone.stage2.1.blocks.2.conv2.bn.running_var\", \"backbone.stage2.1.blocks.2.conv2.bn.num_batches_tracked\", \"backbone.stage3.0.conv.weight\", \"backbone.stage3.0.bn.weight\", \"backbone.stage3.0.bn.bias\", \"backbone.stage3.0.bn.running_mean\", \"backbone.stage3.0.bn.running_var\", \"backbone.stage3.0.bn.num_batches_tracked\", \"backbone.stage3.1.main_conv.conv.weight\", \"backbone.stage3.1.main_conv.bn.weight\", \"backbone.stage3.1.main_conv.bn.bias\", \"backbone.stage3.1.main_conv.bn.running_mean\", \"backbone.stage3.1.main_conv.bn.running_var\", \"backbone.stage3.1.main_conv.bn.num_batches_tracked\", \"backbone.stage3.1.short_conv.conv.weight\", \"backbone.stage3.1.short_conv.bn.weight\", \"backbone.stage3.1.short_conv.bn.bias\", \"backbone.stage3.1.short_conv.bn.running_mean\", \"backbone.stage3.1.short_conv.bn.running_var\", \"backbone.stage3.1.short_conv.bn.num_batches_tracked\", \"backbone.stage3.1.final_conv.conv.weight\", \"backbone.stage3.1.final_conv.bn.weight\", \"backbone.stage3.1.final_conv.bn.bias\", \"backbone.stage3.1.final_conv.bn.running_mean\", \"backbone.stage3.1.final_conv.bn.running_var\", \"backbone.stage3.1.final_conv.bn.num_batches_tracked\", \"backbone.stage3.1.blocks.0.conv1.conv.weight\", \"backbone.stage3.1.blocks.0.conv1.bn.weight\", \"backbone.stage3.1.blocks.0.conv1.bn.bias\", \"backbone.stage3.1.blocks.0.conv1.bn.running_mean\", \"backbone.stage3.1.blocks.0.conv1.bn.running_var\", \"backbone.stage3.1.blocks.0.conv1.bn.num_batches_tracked\", \"backbone.stage3.1.blocks.0.conv2.conv.weight\", \"backbone.stage3.1.blocks.0.conv2.bn.weight\", \"backbone.stage3.1.blocks.0.conv2.bn.bias\", \"backbone.stage3.1.blocks.0.conv2.bn.running_mean\", \"backbone.stage3.1.blocks.0.conv2.bn.running_var\", \"backbone.stage3.1.blocks.0.conv2.bn.num_batches_tracked\", \"backbone.stage3.1.blocks.1.conv1.conv.weight\", \"backbone.stage3.1.blocks.1.conv1.bn.weight\", \"backbone.stage3.1.blocks.1.conv1.bn.bias\", \"backbone.stage3.1.blocks.1.conv1.bn.running_mean\", \"backbone.stage3.1.blocks.1.conv1.bn.running_var\", \"backbone.stage3.1.blocks.1.conv1.bn.num_batches_tracked\", \"backbone.stage3.1.blocks.1.conv2.conv.weight\", \"backbone.stage3.1.blocks.1.conv2.bn.weight\", \"backbone.stage3.1.blocks.1.conv2.bn.bias\", \"backbone.stage3.1.blocks.1.conv2.bn.running_mean\", \"backbone.stage3.1.blocks.1.conv2.bn.running_var\", \"backbone.stage3.1.blocks.1.conv2.bn.num_batches_tracked\", \"backbone.stage3.1.blocks.2.conv1.conv.weight\", \"backbone.stage3.1.blocks.2.conv1.bn.weight\", \"backbone.stage3.1.blocks.2.conv1.bn.bias\", \"backbone.stage3.1.blocks.2.conv1.bn.running_mean\", \"backbone.stage3.1.blocks.2.conv1.bn.running_var\", \"backbone.stage3.1.blocks.2.conv1.bn.num_batches_tracked\", \"backbone.stage3.1.blocks.2.conv2.conv.weight\", \"backbone.stage3.1.blocks.2.conv2.bn.weight\", \"backbone.stage3.1.blocks.2.conv2.bn.bias\", \"backbone.stage3.1.blocks.2.conv2.bn.running_mean\", \"backbone.stage3.1.blocks.2.conv2.bn.running_var\", \"backbone.stage3.1.blocks.2.conv2.bn.num_batches_tracked\", \"backbone.stage4.0.conv.weight\", \"backbone.stage4.0.bn.weight\", \"backbone.stage4.0.bn.bias\", \"backbone.stage4.0.bn.running_mean\", \"backbone.stage4.0.bn.running_var\", \"backbone.stage4.0.bn.num_batches_tracked\", \"backbone.stage4.1.conv1.conv.weight\", \"backbone.stage4.1.conv1.bn.weight\", \"backbone.stage4.1.conv1.bn.bias\", \"backbone.stage4.1.conv1.bn.running_mean\", \"backbone.stage4.1.conv1.bn.running_var\", \"backbone.stage4.1.conv1.bn.num_batches_tracked\", \"backbone.stage4.1.conv2.conv.weight\", \"backbone.stage4.1.conv2.bn.weight\", \"backbone.stage4.1.conv2.bn.bias\", \"backbone.stage4.1.conv2.bn.running_mean\", \"backbone.stage4.1.conv2.bn.running_var\", \"backbone.stage4.1.conv2.bn.num_batches_tracked\", \"backbone.stage4.2.main_conv.conv.weight\", \"backbone.stage4.2.main_conv.bn.weight\", \"backbone.stage4.2.main_conv.bn.bias\", \"backbone.stage4.2.main_conv.bn.running_mean\", \"backbone.stage4.2.main_conv.bn.running_var\", \"backbone.stage4.2.main_conv.bn.num_batches_tracked\", \"backbone.stage4.2.short_conv.conv.weight\", \"backbone.stage4.2.short_conv.bn.weight\", \"backbone.stage4.2.short_conv.bn.bias\", \"backbone.stage4.2.short_conv.bn.running_mean\", \"backbone.stage4.2.short_conv.bn.running_var\", \"backbone.stage4.2.short_conv.bn.num_batches_tracked\", \"backbone.stage4.2.final_conv.conv.weight\", \"backbone.stage4.2.final_conv.bn.weight\", \"backbone.stage4.2.final_conv.bn.bias\", \"backbone.stage4.2.final_conv.bn.running_mean\", \"backbone.stage4.2.final_conv.bn.running_var\", \"backbone.stage4.2.final_conv.bn.num_batches_tracked\", \"backbone.stage4.2.blocks.0.conv1.conv.weight\", \"backbone.stage4.2.blocks.0.conv1.bn.weight\", \"backbone.stage4.2.blocks.0.conv1.bn.bias\", \"backbone.stage4.2.blocks.0.conv1.bn.running_mean\", \"backbone.stage4.2.blocks.0.conv1.bn.running_var\", \"backbone.stage4.2.blocks.0.conv1.bn.num_batches_tracked\", \"backbone.stage4.2.blocks.0.conv2.conv.weight\", \"backbone.stage4.2.blocks.0.conv2.bn.weight\", \"backbone.stage4.2.blocks.0.conv2.bn.bias\", \"backbone.stage4.2.blocks.0.conv2.bn.running_mean\", \"backbone.stage4.2.blocks.0.conv2.bn.running_var\", \"backbone.stage4.2.blocks.0.conv2.bn.num_batches_tracked\", \"neck.top_down_blocks.0.blocks.0.conv1.conv.weight\", \"neck.top_down_blocks.0.blocks.0.conv1.bn.weight\", \"neck.top_down_blocks.0.blocks.0.conv1.bn.bias\", \"neck.top_down_blocks.0.blocks.0.conv1.bn.running_mean\", \"neck.top_down_blocks.0.blocks.0.conv1.bn.running_var\", \"neck.top_down_blocks.0.blocks.0.conv1.bn.num_batches_tracked\", \"neck.top_down_blocks.0.blocks.0.conv2.conv.weight\", \"neck.top_down_blocks.0.blocks.0.conv2.bn.weight\", \"neck.top_down_blocks.0.blocks.0.conv2.bn.bias\", \"neck.top_down_blocks.0.blocks.0.conv2.bn.running_mean\", \"neck.top_down_blocks.0.blocks.0.conv2.bn.running_var\", \"neck.top_down_blocks.0.blocks.0.conv2.bn.num_batches_tracked\", \"neck.top_down_blocks.1.blocks.0.conv1.conv.weight\", \"neck.top_down_blocks.1.blocks.0.conv1.bn.weight\", \"neck.top_down_blocks.1.blocks.0.conv1.bn.bias\", \"neck.top_down_blocks.1.blocks.0.conv1.bn.running_mean\", \"neck.top_down_blocks.1.blocks.0.conv1.bn.running_var\", \"neck.top_down_blocks.1.blocks.0.conv1.bn.num_batches_tracked\", \"neck.top_down_blocks.1.blocks.0.conv2.conv.weight\", \"neck.top_down_blocks.1.blocks.0.conv2.bn.weight\", \"neck.top_down_blocks.1.blocks.0.conv2.bn.bias\", \"neck.top_down_blocks.1.blocks.0.conv2.bn.running_mean\", \"neck.top_down_blocks.1.blocks.0.conv2.bn.running_var\", \"neck.top_down_blocks.1.blocks.0.conv2.bn.num_batches_tracked\", \"neck.bottom_up_blocks.0.blocks.0.conv1.conv.weight\", \"neck.bottom_up_blocks.0.blocks.0.conv1.bn.weight\", \"neck.bottom_up_blocks.0.blocks.0.conv1.bn.bias\", \"neck.bottom_up_blocks.0.blocks.0.conv1.bn.running_mean\", \"neck.bottom_up_blocks.0.blocks.0.conv1.bn.running_var\", \"neck.bottom_up_blocks.0.blocks.0.conv1.bn.num_batches_tracked\", \"neck.bottom_up_blocks.0.blocks.0.conv2.conv.weight\", \"neck.bottom_up_blocks.0.blocks.0.conv2.bn.weight\", \"neck.bottom_up_blocks.0.blocks.0.conv2.bn.bias\", \"neck.bottom_up_blocks.0.blocks.0.conv2.bn.running_mean\", \"neck.bottom_up_blocks.0.blocks.0.conv2.bn.running_var\", \"neck.bottom_up_blocks.0.blocks.0.conv2.bn.num_batches_tracked\", \"neck.bottom_up_blocks.1.blocks.0.conv1.conv.weight\", \"neck.bottom_up_blocks.1.blocks.0.conv1.bn.weight\", \"neck.bottom_up_blocks.1.blocks.0.conv1.bn.bias\", \"neck.bottom_up_blocks.1.blocks.0.conv1.bn.running_mean\", \"neck.bottom_up_blocks.1.blocks.0.conv1.bn.running_var\", \"neck.bottom_up_blocks.1.blocks.0.conv1.bn.num_batches_tracked\", \"neck.bottom_up_blocks.1.blocks.0.conv2.conv.weight\", \"neck.bottom_up_blocks.1.blocks.0.conv2.bn.weight\", \"neck.bottom_up_blocks.1.blocks.0.conv2.bn.bias\", \"neck.bottom_up_blocks.1.blocks.0.conv2.bn.running_mean\", \"neck.bottom_up_blocks.1.blocks.0.conv2.bn.running_var\", \"neck.bottom_up_blocks.1.blocks.0.conv2.bn.num_batches_tracked\". \n"
     ]
    },
    {
     "ename": "TypeError",
     "evalue": "'NoneType' object is not callable",
     "output_type": "error",
     "traceback": [
      "\u001b[0;31m---------------------------------------------------------------------------\u001b[0m",
      "\u001b[0;31mTypeError\u001b[0m                                 Traceback (most recent call last)",
      "Cell \u001b[0;32mIn[4], line 8\u001b[0m\n\u001b[1;32m      5\u001b[0m test_inp \u001b[38;5;241m=\u001b[39m torch\u001b[38;5;241m.\u001b[39mrandn(\u001b[38;5;241m1\u001b[39m, \u001b[38;5;241m3\u001b[39m, \u001b[38;5;241m256\u001b[39m, \u001b[38;5;241m256\u001b[39m)\n\u001b[1;32m      7\u001b[0m \u001b[38;5;28;01mwith\u001b[39;00m torch\u001b[38;5;241m.\u001b[39mno_grad():\n\u001b[0;32m----> 8\u001b[0m     cls_scores, bbox_preds, objectness \u001b[38;5;241m=\u001b[39m \u001b[43myolox\u001b[49m\u001b[43m(\u001b[49m\u001b[43mtest_inp\u001b[49m\u001b[43m)\u001b[49m\n\u001b[1;32m     10\u001b[0m \u001b[38;5;28mprint\u001b[39m(\u001b[38;5;124mf\u001b[39m\u001b[38;5;124m\"\u001b[39m\u001b[38;5;124mcls_scores: \u001b[39m\u001b[38;5;132;01m{\u001b[39;00m[cls_score\u001b[38;5;241m.\u001b[39mshape\u001b[38;5;250m \u001b[39m\u001b[38;5;28;01mfor\u001b[39;00m\u001b[38;5;250m \u001b[39mcls_score\u001b[38;5;250m \u001b[39m\u001b[38;5;129;01min\u001b[39;00m\u001b[38;5;250m \u001b[39mcls_scores]\u001b[38;5;132;01m}\u001b[39;00m\u001b[38;5;124m\"\u001b[39m)\n\u001b[1;32m     11\u001b[0m \u001b[38;5;28mprint\u001b[39m(\u001b[38;5;124mf\u001b[39m\u001b[38;5;124m\"\u001b[39m\u001b[38;5;124mbbox_preds: \u001b[39m\u001b[38;5;132;01m{\u001b[39;00m[bbox_pred\u001b[38;5;241m.\u001b[39mshape\u001b[38;5;250m \u001b[39m\u001b[38;5;28;01mfor\u001b[39;00m\u001b[38;5;250m \u001b[39mbbox_pred\u001b[38;5;250m \u001b[39m\u001b[38;5;129;01min\u001b[39;00m\u001b[38;5;250m \u001b[39mbbox_preds]\u001b[38;5;132;01m}\u001b[39;00m\u001b[38;5;124m\"\u001b[39m)\n",
      "\u001b[0;31mTypeError\u001b[0m: 'NoneType' object is not callable"
     ]
    }
   ],
   "source": [
    "import torch\n",
    "\n",
    "yolox = build_model(model_type, 19)\n",
    "\n",
    "test_inp = torch.randn(1, 3, 256, 256)\n",
    "\n",
    "with torch.no_grad():\n",
    "    cls_scores, bbox_preds, objectness = yolox(test_inp)\n",
    "    \n",
    "print(f\"cls_scores: {[cls_score.shape for cls_score in cls_scores]}\")\n",
    "print(f\"bbox_preds: {[bbox_pred.shape for bbox_pred in bbox_preds]}\")\n",
    "print(f\"objectness: {[objectness.shape for objectness in objectness]}\")"
   ]
  },
  {
   "cell_type": "code",
   "execution_count": null,
   "metadata": {},
   "outputs": [],
   "source": []
  }
 ],
 "metadata": {
  "kernelspec": {
   "display_name": "python3",
   "language": "python",
   "name": "python3"
  }
 },
 "nbformat": 4,
 "nbformat_minor": 4
}
